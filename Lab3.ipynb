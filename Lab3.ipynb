{
 "cells": [
  {
   "cell_type": "code",
   "execution_count": 148,
   "metadata": {
    "collapsed": true
   },
   "outputs": [],
   "source": [
    "from sklearn import datasets as ds\n",
    "import pandas as pd\n",
    "import numpy as np\n",
    "import os, os.path\n",
    "import mpl_toolkits.mplot3d.axes3d as p3\n",
    "import matplotlib.pyplot as plt\n",
    "import colorsys\n",
    "from PIL import Image"
   ]
  },
  {
   "cell_type": "code",
   "execution_count": 149,
   "metadata": {
    "collapsed": false
   },
   "outputs": [
    {
     "ename": "TypeError",
     "evalue": "'list' object is not callable",
     "output_type": "error",
     "traceback": [
      "\u001b[0;31m---------------------------------------------------------------------------\u001b[0m",
      "\u001b[0;31mTypeError\u001b[0m                                 Traceback (most recent call last)",
      "\u001b[0;32m<ipython-input-149-953d0c9706fc>\u001b[0m in \u001b[0;36m<module>\u001b[0;34m()\u001b[0m\n\u001b[1;32m      1\u001b[0m \u001b[0;31m#with open('data/ospd.txt') as f:\u001b[0m\u001b[0;34m\u001b[0m\u001b[0;34m\u001b[0m\u001b[0m\n\u001b[0;32m----> 2\u001b[0;31m \u001b[0mimages\u001b[0m \u001b[0;34m=\u001b[0m \u001b[0mnp\u001b[0m\u001b[0;34m.\u001b[0m\u001b[0marray\u001b[0m\u001b[0;34m(\u001b[0m\u001b[0;34m[\u001b[0m\u001b[0;34m]\u001b[0m\u001b[0;34m)\u001b[0m\u001b[0;34m\u001b[0m\u001b[0m\n\u001b[0m\u001b[1;32m      3\u001b[0m \u001b[0;32mfor\u001b[0m \u001b[0mfile\u001b[0m \u001b[0;32min\u001b[0m \u001b[0mos\u001b[0m\u001b[0;34m.\u001b[0m\u001b[0mlistdir\u001b[0m\u001b[0;34m(\u001b[0m\u001b[0;34m'train/ALB'\u001b[0m\u001b[0;34m)\u001b[0m\u001b[0;34m:\u001b[0m\u001b[0;34m\u001b[0m\u001b[0m\n\u001b[1;32m      4\u001b[0m     \u001b[0;31m#with open(file) as f:\u001b[0m\u001b[0;34m\u001b[0m\u001b[0;34m\u001b[0m\u001b[0m\n\u001b[1;32m      5\u001b[0m     \u001b[0mcolours\u001b[0m \u001b[0;34m=\u001b[0m \u001b[0mnp\u001b[0m\u001b[0;34m.\u001b[0m\u001b[0marray\u001b[0m\u001b[0;34m(\u001b[0m\u001b[0;34m[\u001b[0m\u001b[0;34m]\u001b[0m\u001b[0;34m)\u001b[0m\u001b[0;34m\u001b[0m\u001b[0m\n",
      "\u001b[0;31mTypeError\u001b[0m: 'list' object is not callable"
     ]
    }
   ],
   "source": [
    "#with open('data/ospd.txt') as f:\n",
    "images = np.array([])\n",
    "for file in os.listdir('train/ALB'):\n",
    "    #with open(file) as f:\n",
    "    colours = np.array([])\n",
    "    into_array('train/ALB/'+ file)\n",
    "    np.append(images,colours)\n"
   ]
  },
  {
   "cell_type": "code",
   "execution_count": null,
   "metadata": {
    "collapsed": false
   },
   "outputs": [],
   "source": [
    "into_array('train/ALB/img_00003.jpg')"
   ]
  },
  {
   "cell_type": "code",
   "execution_count": null,
   "metadata": {
    "collapsed": false
   },
   "outputs": [],
   "source": [
    "print(images)"
   ]
  },
  {
   "cell_type": "code",
   "execution_count": null,
   "metadata": {
    "collapsed": false
   },
   "outputs": [],
   "source": [
    "def into_array(img):\n",
    "    # (1) Import the file to be analyzed!\n",
    "    img_file = Image.open(img)\n",
    "    img = img_file.load()\n",
    "\n",
    "    # (2) Get image width & height in pixels\n",
    "    [xs, ys] = img_file.size\n",
    "    max_intensity = 100\n",
    "    hues = {}\n",
    "\n",
    "    # (3) Examine each pixel in the image file\n",
    "    for x in range(0, xs):\n",
    "      for y in range(0, ys):\n",
    "        # (4)  Get the RGB color of the pixel\n",
    "        [r, g, b] = img[x, y]\n",
    "\n",
    "        # (5)  Normalize pixel color values\n",
    "        r /= 255.0\n",
    "        g /= 255.0\n",
    "        b /= 255.0\n",
    "\n",
    "        # (6)  Convert RGB color to HSV\n",
    "        [h, s, v] = colorsys.rgb_to_hsv(r, g, b)\n",
    "\n",
    "        # (7)  Marginalize s; count how many pixels have matching (h, v)\n",
    "        if h not in hues:\n",
    "          hues[h] = {}\n",
    "        if v not in hues[h]:\n",
    "          hues[h][v] = 1\n",
    "        else:\n",
    "          if hues[h][v] < max_intensity:\n",
    "            hues[h][v] += 1\n",
    "\n",
    "    # (8)   Decompose the hues object into a set of one dimensional arrays we can use with matplotlib\n",
    "    h_ = []\n",
    "    v_ = []\n",
    "    i = []\n",
    "\n",
    "    for h in hues:\n",
    "      for v in hues[h]:\n",
    "        h_.append(h)\n",
    "        v_.append(v)\n",
    "        i.append(hues[h][v])\n",
    "        [r, g, b] = colorsys.hsv_to_rgb(h, 1, v)\n",
    "        colours.append([r, g, b])\n",
    "\n",
    "    # (9)   Plot the graph!\n",
    "#     fig = plt.figure()\n",
    "#     ax = p3.Axes3D(fig)\n",
    "#     ax.scatter(h_, v_, i, s=5, c=colours, lw=0)\n",
    "\n",
    "#     ax.set_xlabel('Hue')\n",
    "#     ax.set_ylabel('Value')\n",
    "#     ax.set_zlabel('Intensity')\n",
    "#     fig.add_axes(ax)\n",
    "#     plt.show()"
   ]
  },
  {
   "cell_type": "code",
   "execution_count": null,
   "metadata": {
    "collapsed": false
   },
   "outputs": [],
   "source": [
    "import glob\n",
    "from PIL import Image\n",
    "import matplotlib.image as mpimg\n",
    "\n",
    "albacore_image_files = glob.glob('train/LAG/*.jpg')\n",
    "# print(image_files)\n",
    "albacore_image_list = []\n",
    "size = 300, 300\n",
    "\n",
    "for filename in albacore_image_files:\n",
    "    image=Image.open(filename).resize(size)\n",
    "    albacore_image_list.append(image)"
   ]
  },
  {
   "cell_type": "code",
   "execution_count": null,
   "metadata": {
    "collapsed": false
   },
   "outputs": [],
   "source": [
    "# for image in albacore_image_list:\n",
    "# albacore_image = mpimg.imread(image)\n",
    "image1=mpimg.imread(albacore_image_files[0])\n"
   ]
  },
  {
   "cell_type": "code",
   "execution_count": null,
   "metadata": {
    "collapsed": false
   },
   "outputs": [],
   "source": [
    "albacore_image_files"
   ]
  },
  {
   "cell_type": "code",
   "execution_count": null,
   "metadata": {
    "collapsed": false
   },
   "outputs": [],
   "source": [
    "igs = np.array([mpimg.imread(image) for image in albacore_image_files])\n"
   ]
  },
  {
   "cell_type": "code",
   "execution_count": null,
   "metadata": {
    "collapsed": false
   },
   "outputs": [],
   "source": [
    "print(type(images))"
   ]
  },
  {
   "cell_type": "code",
   "execution_count": null,
   "metadata": {
    "collapsed": false
   },
   "outputs": [],
   "source": [
    "# Function to show 4 images\n",
    "def show_four(imgs):\n",
    "    #select_imgs = [np.random.choice(imgs) for _ in range(4)]\n",
    "    select_imgs = [imgs[np.random.choice(len(imgs))] for _ in range(4)]\n",
    "    _, ax = plt.subplots(1, 4, sharex='col', sharey='row', figsize=(20, 3))\n",
    "    #plt.suptitle(title, size=20)\n",
    "    for i, img in enumerate(select_imgs):\n",
    "        ax[i].imshow(img)\n",
    "for uniq in pd.Series(np_images).unique():\n",
    "    show_four(train[np_images == uniq], 'Images with shape: {}'.format(uniq))\n",
    "    plt.show()"
   ]
  },
  {
   "cell_type": "code",
   "execution_count": null,
   "metadata": {
    "collapsed": false
   },
   "outputs": [],
   "source": [
    "print(images[0].shape)\n",
    "np_images.shape"
   ]
  },
  {
   "cell_type": "code",
   "execution_count": null,
   "metadata": {
    "collapsed": true
   },
   "outputs": [],
   "source": [
    "for infile in glob.glob('C:/DEV/Projects/Machine_Learning/Lab2/train/ALB/*.jpg'):\n",
    "file, ext = os.path.splitext(infile)\n",
    "im = Image.open(infile)\n",
    "im.thumbnail(size)\n",
    "im.save(file + \".thumbnail\", \"PNG\")"
   ]
  },
  {
   "cell_type": "code",
   "execution_count": null,
   "metadata": {
    "collapsed": false
   },
   "outputs": [],
   "source": [
    "# a helper plotting function\n",
    "def plot_gallery(images, h, w, n_row=3, n_col=6):\n",
    "    \"\"\"Helper function to plot a gallery of portraits\"\"\"\n",
    "    plt.figure(figsize=(1.7 * n_col, 2.3 * n_row))\n",
    "    plt.subplots_adjust(bottom=0, left=.01, right=.99, top=.90, hspace=.35)\n",
    "    for i in range(n_row * n_col):\n",
    "        plt.subplot(n_row, n_col, i + 1)\n",
    "        plt.imshow(images[i].reshape((h, w)), cmap=plt.cm.gray)\n",
    "        #plt.title(titles[i], size=12)\n",
    "        plt.xticks(())\n",
    "        plt.yticks(())\n",
    "_, h, w = np_images.shape\n",
    "plot_gallery(np_images, h, w) # defaults to showing a 3 by 6 subset of the faces"
   ]
  },
  {
   "cell_type": "code",
   "execution_count": null,
   "metadata": {
    "collapsed": true
   },
   "outputs": [],
   "source": []
  }
 ],
 "metadata": {
  "kernelspec": {
   "display_name": "Python [conda root]",
   "language": "python",
   "name": "conda-root-py"
  },
  "language_info": {
   "codemirror_mode": {
    "name": "ipython",
    "version": 3
   },
   "file_extension": ".py",
   "mimetype": "text/x-python",
   "name": "python",
   "nbconvert_exporter": "python",
   "pygments_lexer": "ipython3",
   "version": "3.5.2"
  }
 },
 "nbformat": 4,
 "nbformat_minor": 1
}
